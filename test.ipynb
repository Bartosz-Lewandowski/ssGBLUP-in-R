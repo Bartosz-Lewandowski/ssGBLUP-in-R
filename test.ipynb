{
 "cells": [
  {
   "cell_type": "code",
   "execution_count": 1,
   "metadata": {
    "vscode": {
     "languageId": "r"
    }
   },
   "outputs": [
    {
     "name": "stderr",
     "output_type": "stream",
     "text": [
      "Loading required package: lme4\n",
      "\n",
      "Loading required package: Matrix\n",
      "\n"
     ]
    }
   ],
   "source": [
    "library(pedigreemm)\n",
    "library(MASS)"
   ]
  },
  {
   "cell_type": "code",
   "execution_count": 15,
   "metadata": {
    "vscode": {
     "languageId": "r"
    }
   },
   "outputs": [],
   "source": [
    "\n",
    "data_manipulation <- function(data) {\n",
    "    id <- c(as.character(data$ID),\n",
    "            as.character(data$DamID),\n",
    "            as.character(data$SireID))\n",
    "    id <- unique(id)\n",
    "    id <- id[id != \"0\"]\n",
    "    new_data <- data.frame(\"ID\" = id)\n",
    "    new_data <- merge(new_data, data, by = \"ID\", all.x = TRUE)\n",
    "    new_data <- new_data[, c(1,2,3,5)]\n",
    "    new_data <- new_data[order(new_data$Byear),]\n",
    "    n <- nrow(new_data)\n",
    "    new_data$newID <- 1:n\n",
    "    data_tmp <- new_data[, c(1, 5)]\n",
    "    colnames(data_tmp) <- c(\"SireID\", \"newSireID\")\n",
    "    new_data <- merge(new_data, data_tmp, by = \"SireID\", all.x = TRUE)\n",
    "    data_tmp <- new_data[, c(2, 5)]\n",
    "    colnames(data_tmp) <- c(\"DamID\", \"newDamID\")\n",
    "    new_data <- merge(new_data, data_tmp, by = \"DamID\", all.x = TRUE)\n",
    "    new_data <- new_data[order(new_data$Byear),]\n",
    "    new_data <- new_data[, c(-1, -2, -4)]\n",
    "    new_data$newSireID[new_data$newSireID > new_data$newID &\n",
    "                        !is.na(new_data$newSireID)] <- NA\n",
    "    new_data$newDamID[new_data$newDamID > new_data$newID &\n",
    "                        !is.na(new_data$newDamID)] <- NA\n",
    "    return(new_data)\n",
    "}\n",
    "add_information_columns <- function(data, new_data) {\n",
    "    new_data$y1 <- merge(new_data, data[data$ID %in% new_data$ID, ][, c(\"Y1\", \"ID\")], by=\"ID\")$Y1\n",
    "    new_data$y2 <- merge(new_data, data[data$ID %in% new_data$ID, ][, c(\"Y2\", \"ID\")], by=\"ID\")$Y2\n",
    "    new_data$sex <- merge(new_data, data[data$ID %in% new_data$ID, ][, c(\"Sex\", \"ID\")], by=\"ID\")$Sex\n",
    "    new_data$byear <- merge(new_data, data[data$ID %in% new_data$ID, ][, c(\"Byear\", \"ID\")], by=\"ID\")$Byear\n",
    "    new_dataSNP <- merge(new_data, data[data$ID %in% new_data$ID, -c(2,3,4,5,6,7)], by = \"ID\")\n",
    "    new_dataSNP <- new_dataSNP[order(new_dataSNP$newID), ]\n",
    "    return(new_dataSNP)\n",
    "}\n",
    "\n",
    "prepare_data <- function(data_path, size = 500) {\n",
    "    data <- read.table(data_path, header = TRUE, sep = \";\")\n",
    "    new_data <- data_manipulation(data)\n",
    "    new_dataSNP <- add_information_columns(data, new_data)\n",
    "    new_dataSNP <- new_dataSNP[0:size, ]\n",
    "    return(new_dataSNP)\n",
    "}"
   ]
  },
  {
   "cell_type": "code",
   "execution_count": 16,
   "metadata": {
    "vscode": {
     "languageId": "r"
    }
   },
   "outputs": [],
   "source": [
    "newData <- prepare_data(\"data.csv\")"
   ]
  },
  {
   "cell_type": "code",
   "execution_count": 17,
   "metadata": {
    "vscode": {
     "languageId": "r"
    }
   },
   "outputs": [],
   "source": [
    "get_freq_A <- function(newData) {\n",
    "    first_marker <- which(colnames(newData) == \"SNP1\")\n",
    "    data_snp <- newData[first_marker:ncol(newData)]\n",
    "    freq_A <- numeric(ncol(data_snp))\n",
    "    for (i in seq_len(ncol(data_snp))) {\n",
    "        n <- length(data_snp[, i]) * 2\n",
    "        A <- 0\n",
    "        for (j in data_snp[, i]) {\n",
    "            if (j == -1) {\n",
    "                A <- A + 2\n",
    "            }\n",
    "            else if (j == 0) {\n",
    "                A <- A + 1\n",
    "            }\n",
    "        }\n",
    "        freq_A[i] <- A/n\n",
    "    }\n",
    "    return(freq_A)\n",
    "}"
   ]
  },
  {
   "cell_type": "code",
   "execution_count": 18,
   "metadata": {
    "vscode": {
     "languageId": "r"
    }
   },
   "outputs": [],
   "source": [
    "freq_A <- get_freq_A(newData)\n"
   ]
  },
  {
   "cell_type": "code",
   "execution_count": 19,
   "metadata": {
    "vscode": {
     "languageId": "r"
    }
   },
   "outputs": [],
   "source": [
    "remove_low_MAF <- function(newData, freq_A) {\n",
    "    first_marker <- which(colnames(newData) == \"SNP1\")\n",
    "    for (i in first_marker:ncol(newData)){\n",
    "        if (freq_A[i-first_marker + 1] < 0.05 | 1-freq_A[i-first_marker + 1] < 0.05) {\n",
    "            newData <- newData[, -i]\n",
    "        }\n",
    "    }\n",
    "    return(newData)\n",
    "}"
   ]
  },
  {
   "cell_type": "code",
   "execution_count": 20,
   "metadata": {
    "vscode": {
     "languageId": "r"
    }
   },
   "outputs": [],
   "source": [
    "newData_new <- remove_low_MAF(newData, freq_A)"
   ]
  },
  {
   "cell_type": "code",
   "execution_count": 21,
   "metadata": {
    "vscode": {
     "languageId": "r"
    }
   },
   "outputs": [],
   "source": [
    "ped <- pedigree(sire=newData$newSireID, dam=newData$newDamID, label=newData$newID)\n",
    "A <- as.matrix(getA(ped))"
   ]
  },
  {
   "cell_type": "code",
   "execution_count": 22,
   "metadata": {
    "vscode": {
     "languageId": "r"
    }
   },
   "outputs": [],
   "source": [
    "y1 <- newData_new$y1\n",
    "y2 <- newData_new$y2\n",
    "byear <- newData_new$byear\n",
    "sex <- newData_new$sex\n",
    "\n",
    "X <- matrix(0,500,3)\n",
    "X[, 1] <- sex\n",
    "X[, 2] <- -sex\n",
    "X[, 3] <- byear\n",
    "\n",
    "Z <- diag(500)"
   ]
  },
  {
   "cell_type": "code",
   "execution_count": 23,
   "metadata": {
    "vscode": {
     "languageId": "r"
    }
   },
   "outputs": [
    {
     "data": {
      "text/html": [
       "151"
      ],
      "text/latex": [
       "151"
      ],
      "text/markdown": [
       "151"
      ],
      "text/plain": [
       "[1] 151"
      ]
     },
     "metadata": {},
     "output_type": "display_data"
    }
   ],
   "source": [
    "p2 <- get_freq_A(newData_new)\n",
    "length(p2)"
   ]
  },
  {
   "cell_type": "code",
   "execution_count": 24,
   "metadata": {
    "vscode": {
     "languageId": "r"
    }
   },
   "outputs": [],
   "source": [
    "first_marker <- which(colnames(newData_new) == \"SNP1\")\n",
    "snp_data <- newData_new[first_marker:ncol(newData_new)]\n",
    "M = matrix(0, nrow = 500, ncol = length(p2))\n",
    "for (i in 1:500) {\n",
    "    for (j in seq_len(length(p2))) {\n",
    "       if (snp_data[i, j] == -1) {\n",
    "           M[i, j] = 2 - 2*p2[j]\n",
    "       } else if (snp_data[i, j] == 0) {\n",
    "           M[i, j] = 1 - 2*p2[j]\n",
    "       } else {\n",
    "           M[i, j] = - 2*p2[j]\n",
    "       }\n",
    "    }\n",
    "}\n",
    "G = M%*%t(M) / (2*sum(p2*(1-p2)))"
   ]
  },
  {
   "cell_type": "code",
   "execution_count": 25,
   "metadata": {
    "vscode": {
     "languageId": "r"
    }
   },
   "outputs": [],
   "source": [
    "mme = function(y, X, Z, A, sigma_a, sigma_e) {\n",
    "    alpha = sigma_e / sigma_a\n",
    "    invA = ginv(A)\n",
    "    C = rbind(cbind(t(X)%*%X, t(X)%*%Z),\n",
    "              cbind(t(Z)%*%X, t(Z)%*%Z+invA*c(alpha)))\n",
    "    rhs = rbind(t(X)%*%y, t(Z)%*%y)\n",
    "    invC = ginv(C)\n",
    "    estimators = invC%*%rhs\n",
    "    list(C = C, est = estimators)\n",
    "}\n"
   ]
  },
  {
   "cell_type": "code",
   "execution_count": 26,
   "metadata": {
    "vscode": {
     "languageId": "r"
    }
   },
   "outputs": [],
   "source": [
    "EM = function(y, X, Z, A, sigma_a, sigma_e, output) {\n",
    "  n = nrow(X)\n",
    "  p = ncol(X) \n",
    "  q = nrow(A) \n",
    "  t = 1 #iteration number 1\n",
    "  tmp = 0.1 #test for convergance\n",
    "  while (tmp > 0.0001) {\n",
    "    mme_new = mme(y, X, Z, A, sigma_a, sigma_e)\n",
    "    C_new = ginv(mme_new$C)\n",
    "    Ck = C_new[(p+1):(p+q), (p+1):(p+q)]\n",
    "    mme2 = mme_new$est\n",
    "    a = as.matrix(mme2[(p+1):(p+q)])\n",
    "    sigma_a_new = (t(a)%*%ginv(A)%*%a + sum(diag(ginv(A)%*%Ck))*c(sigma_e))/q\n",
    "    res = as.matrix(y-X%*%as.matrix(mme2[1:p]) - Z%*%as.matrix(mme2[(p+1):(p+q)]))\n",
    "    X.tmp1 = cbind(X,Z) %*% C_new\n",
    "    X.tmp2 = t(cbind(X,Z))\n",
    "    sigma_e_new = (t(res)%*%res + sum(diag(X.tmp1%*%X.tmp2))*c(sigma_e))/n\n",
    "    tmp = max(abs(sigma_a - sigma_a_new), abs(sigma_e - sigma_e_new))\n",
    "    sigma_a = sigma_a_new\n",
    "    sigma_e = sigma_e_new\n",
    "    t = t + 1\n",
    "    write.table(c(sigma_a,sigma_e,t, tmp), output, col.names = FALSE, row.names = FALSE, append = TRUE, quote = FALSE)\n",
    "  }\n",
    "  list(t = t, sigma_a = sigma_a, sigma_e = sigma_e)\n",
    "}"
   ]
  },
  {
   "cell_type": "code",
   "execution_count": 27,
   "metadata": {
    "vscode": {
     "languageId": "r"
    }
   },
   "outputs": [],
   "source": [
    "results_y1 = EM(y1, X, Z, A, sigma_a = 0.3*var(y1), sigma_e = 0.7*var(y1), \"Results_y1.csv\")\n"
   ]
  },
  {
   "cell_type": "code",
   "execution_count": 18,
   "metadata": {
    "vscode": {
     "languageId": "r"
    }
   },
   "outputs": [],
   "source": [
    "results_y2 = EM(y1, X, Z, A, sigma_a = 0.3*var(y1), sigma_e = 0.7*var(y1), \"Results_y2.csv\")"
   ]
  },
  {
   "cell_type": "code",
   "execution_count": 28,
   "metadata": {
    "vscode": {
     "languageId": "r"
    }
   },
   "outputs": [],
   "source": [
    "mme2 = function(y, X, Z1, Z2, A, G, sigma_a, sigma_g, sigma_e) {\n",
    "    alpha1 = sigma_e / sigma_a\n",
    "    alpha2 = sigma_e / sigma_g\n",
    "    invA = ginv(A)\n",
    "    invG = ginv(G)\n",
    "    C = rbind(cbind(t(X)%*%X, t(X)%*%Z1, t(X)%*%Z2),\n",
    "              cbind(t(Z1)%*%X, t(Z1)%*%Z1+invA*c(alpha1), t(Z1)%*%Z2),\n",
    "              cbind(t(Z2)%*%X, t(Z2)%*%Z1, t(Z2)%*%Z2 + invG*c(alpha2)))\n",
    "    rhs = rbind(t(X)%*%y, t(Z1)%*%y, t(Z2)%*%y)\n",
    "    invC = ginv(C)\n",
    "    estimators = invC%*%rhs\n",
    "    list(C = C, est = estimators)\n",
    "}\n"
   ]
  },
  {
   "cell_type": "code",
   "execution_count": 22,
   "metadata": {
    "vscode": {
     "languageId": "r"
    }
   },
   "outputs": [
    {
     "data": {
      "text/html": [
       "<table class=\"dataframe\">\n",
       "<caption>A matrix: 1 × 1 of type dbl</caption>\n",
       "<tbody>\n",
       "\t<tr><td>2.211236e-07</td></tr>\n",
       "</tbody>\n",
       "</table>\n"
      ],
      "text/latex": [
       "A matrix: 1 × 1 of type dbl\n",
       "\\begin{tabular}{l}\n",
       "\t 2.211236e-07\\\\\n",
       "\\end{tabular}\n"
      ],
      "text/markdown": [
       "\n",
       "A matrix: 1 × 1 of type dbl\n",
       "\n",
       "| 2.211236e-07 |\n",
       "\n"
      ],
      "text/plain": [
       "     [,1]        \n",
       "[1,] 2.211236e-07"
      ]
     },
     "metadata": {},
     "output_type": "display_data"
    }
   ],
   "source": [
    "(h2_y1 = results_y1$sigma_a / (results_y1$sigma_a + results_y1$sigma_e))"
   ]
  },
  {
   "cell_type": "code",
   "execution_count": 24,
   "metadata": {
    "vscode": {
     "languageId": "r"
    }
   },
   "outputs": [
    {
     "data": {
      "text/html": [
       "<table class=\"dataframe\">\n",
       "<caption>A matrix: 1 × 1 of type dbl</caption>\n",
       "<tbody>\n",
       "\t<tr><td>2.211236e-07</td></tr>\n",
       "</tbody>\n",
       "</table>\n"
      ],
      "text/latex": [
       "A matrix: 1 × 1 of type dbl\n",
       "\\begin{tabular}{l}\n",
       "\t 2.211236e-07\\\\\n",
       "\\end{tabular}\n"
      ],
      "text/markdown": [
       "\n",
       "A matrix: 1 × 1 of type dbl\n",
       "\n",
       "| 2.211236e-07 |\n",
       "\n"
      ],
      "text/plain": [
       "     [,1]        \n",
       "[1,] 2.211236e-07"
      ]
     },
     "metadata": {},
     "output_type": "display_data"
    }
   ],
   "source": [
    "(h2_y2 = results_y2$sigma_a / (results_y2$sigma_a + results_y2$sigma_e))"
   ]
  },
  {
   "cell_type": "code",
   "execution_count": 32,
   "metadata": {
    "vscode": {
     "languageId": "r"
    }
   },
   "outputs": [],
   "source": [
    "Z2 <- data.matrix(snp_data)"
   ]
  },
  {
   "cell_type": "code",
   "execution_count": 33,
   "metadata": {
    "vscode": {
     "languageId": "r"
    }
   },
   "outputs": [
    {
     "data": {
      "text/html": [
       "<table class=\"dataframe\">\n",
       "<caption>A matrix: 500 × 151 of type int</caption>\n",
       "<thead>\n",
       "\t<tr><th></th><th scope=col>SNP1</th><th scope=col>SNP3</th><th scope=col>SNP4</th><th scope=col>SNP5</th><th scope=col>SNP6</th><th scope=col>SNP7</th><th scope=col>SNP8</th><th scope=col>SNP9</th><th scope=col>SNP10</th><th scope=col>SNP11</th><th scope=col>⋯</th><th scope=col>SNP155</th><th scope=col>SNP156</th><th scope=col>SNP157</th><th scope=col>SNP158</th><th scope=col>SNP159</th><th scope=col>SNP161</th><th scope=col>SNP163</th><th scope=col>SNP164</th><th scope=col>SNP165</th><th scope=col>SNP166</th></tr>\n",
       "</thead>\n",
       "<tbody>\n",
       "\t<tr><th scope=row>756</th><td>-1</td><td>-1</td><td>-1</td><td>-1</td><td>-1</td><td>-1</td><td>-1</td><td>-1</td><td>-1</td><td>-1</td><td>⋯</td><td>-1</td><td>-1</td><td>-1</td><td>-1</td><td>-1</td><td>-1</td><td>-1</td><td>-1</td><td>-1</td><td>-1</td></tr>\n",
       "\t<tr><th scope=row>1706</th><td> 1</td><td> 1</td><td> 0</td><td> 1</td><td> 1</td><td> 0</td><td> 1</td><td> 0</td><td> 1</td><td> 0</td><td>⋯</td><td> 0</td><td> 0</td><td> 1</td><td> 1</td><td> 0</td><td> 0</td><td> 0</td><td> 0</td><td> 0</td><td> 0</td></tr>\n",
       "\t<tr><th scope=row>1724</th><td>-1</td><td>-1</td><td>-1</td><td> 0</td><td>-1</td><td>-1</td><td> 0</td><td>-1</td><td> 0</td><td>-1</td><td>⋯</td><td> 1</td><td>-1</td><td>-1</td><td> 0</td><td> 0</td><td> 0</td><td>-1</td><td>-1</td><td>-1</td><td>-1</td></tr>\n",
       "\t<tr><th scope=row>2121</th><td>-1</td><td>-1</td><td>-1</td><td> 0</td><td>-1</td><td>-1</td><td>-1</td><td>-1</td><td> 0</td><td>-1</td><td>⋯</td><td> 0</td><td>-1</td><td>-1</td><td> 0</td><td> 0</td><td> 0</td><td>-1</td><td>-1</td><td>-1</td><td>-1</td></tr>\n",
       "\t<tr><th scope=row>3838</th><td>-1</td><td> 1</td><td>-1</td><td> 1</td><td> 0</td><td>-1</td><td> 0</td><td>-1</td><td> 1</td><td>-1</td><td>⋯</td><td> 0</td><td>-1</td><td> 0</td><td> 0</td><td> 1</td><td> 1</td><td>-1</td><td>-1</td><td>-1</td><td>-1</td></tr>\n",
       "\t<tr><th scope=row>4662</th><td>-1</td><td> 0</td><td>-1</td><td> 1</td><td> 0</td><td>-1</td><td> 0</td><td>-1</td><td> 0</td><td>-1</td><td>⋯</td><td> 0</td><td>-1</td><td> 0</td><td> 1</td><td> 0</td><td> 1</td><td>-1</td><td>-1</td><td>-1</td><td> 0</td></tr>\n",
       "\t<tr><th scope=row>4912</th><td>-1</td><td> 0</td><td>-1</td><td> 0</td><td> 0</td><td>-1</td><td> 0</td><td>-1</td><td> 0</td><td>-1</td><td>⋯</td><td> 1</td><td>-1</td><td> 0</td><td> 1</td><td> 0</td><td> 0</td><td>-1</td><td>-1</td><td>-1</td><td>-1</td></tr>\n",
       "\t<tr><th scope=row>5154</th><td>-1</td><td>-1</td><td>-1</td><td> 0</td><td>-1</td><td>-1</td><td> 0</td><td>-1</td><td> 0</td><td>-1</td><td>⋯</td><td> 0</td><td>-1</td><td>-1</td><td> 0</td><td> 0</td><td> 0</td><td>-1</td><td>-1</td><td>-1</td><td>-1</td></tr>\n",
       "\t<tr><th scope=row>5551</th><td> 0</td><td> 1</td><td> 0</td><td> 1</td><td> 1</td><td> 0</td><td> 1</td><td> 1</td><td> 1</td><td> 0</td><td>⋯</td><td> 0</td><td> 0</td><td> 1</td><td> 1</td><td> 1</td><td> 1</td><td> 0</td><td> 0</td><td> 1</td><td> 0</td></tr>\n",
       "\t<tr><th scope=row>6043</th><td> 0</td><td> 0</td><td>-1</td><td> 1</td><td> 0</td><td> 0</td><td> 1</td><td> 0</td><td> 1</td><td>-1</td><td>⋯</td><td> 1</td><td> 0</td><td> 0</td><td> 0</td><td> 0</td><td> 1</td><td> 0</td><td> 0</td><td> 0</td><td> 0</td></tr>\n",
       "\t<tr><th scope=row>6597</th><td>-1</td><td> 0</td><td>-1</td><td> 1</td><td> 0</td><td> 0</td><td> 0</td><td> 0</td><td> 1</td><td>-1</td><td>⋯</td><td> 1</td><td>-1</td><td> 0</td><td> 1</td><td> 1</td><td> 0</td><td>-1</td><td> 0</td><td>-1</td><td> 0</td></tr>\n",
       "\t<tr><th scope=row>7066</th><td>-1</td><td>-1</td><td>-1</td><td> 1</td><td>-1</td><td>-1</td><td> 0</td><td>-1</td><td> 0</td><td>-1</td><td>⋯</td><td> 0</td><td>-1</td><td>-1</td><td> 1</td><td> 0</td><td> 0</td><td>-1</td><td>-1</td><td>-1</td><td>-1</td></tr>\n",
       "\t<tr><th scope=row>7587</th><td>-1</td><td> 0</td><td>-1</td><td> 0</td><td> 0</td><td>-1</td><td> 1</td><td>-1</td><td> 1</td><td>-1</td><td>⋯</td><td> 1</td><td>-1</td><td> 1</td><td> 0</td><td> 0</td><td> 0</td><td>-1</td><td>-1</td><td>-1</td><td>-1</td></tr>\n",
       "\t<tr><th scope=row>8066</th><td>-1</td><td>-1</td><td>-1</td><td>-1</td><td>-1</td><td>-1</td><td>-1</td><td>-1</td><td>-1</td><td>-1</td><td>⋯</td><td>-1</td><td>-1</td><td>-1</td><td>-1</td><td>-1</td><td>-1</td><td>-1</td><td>-1</td><td>-1</td><td>-1</td></tr>\n",
       "\t<tr><th scope=row>8520</th><td>-1</td><td>-1</td><td>-1</td><td> 0</td><td>-1</td><td>-1</td><td>-1</td><td>-1</td><td> 0</td><td>-1</td><td>⋯</td><td> 0</td><td>-1</td><td>-1</td><td> 1</td><td> 0</td><td> 0</td><td>-1</td><td>-1</td><td>-1</td><td>-1</td></tr>\n",
       "\t<tr><th scope=row>9195</th><td>-1</td><td> 0</td><td>-1</td><td> 0</td><td> 1</td><td>-1</td><td> 1</td><td>-1</td><td> 0</td><td>-1</td><td>⋯</td><td> 0</td><td>-1</td><td> 0</td><td> 0</td><td> 0</td><td> 1</td><td>-1</td><td>-1</td><td>-1</td><td>-1</td></tr>\n",
       "\t<tr><th scope=row>9760</th><td>-1</td><td> 0</td><td>-1</td><td> 0</td><td> 1</td><td>-1</td><td> 0</td><td>-1</td><td> 0</td><td>-1</td><td>⋯</td><td> 1</td><td>-1</td><td> 0</td><td> 1</td><td> 0</td><td> 0</td><td>-1</td><td>-1</td><td>-1</td><td> 0</td></tr>\n",
       "\t<tr><th scope=row>12083</th><td>-1</td><td>-1</td><td>-1</td><td>-1</td><td>-1</td><td>-1</td><td>-1</td><td>-1</td><td>-1</td><td>-1</td><td>⋯</td><td>-1</td><td>-1</td><td>-1</td><td> 0</td><td> 0</td><td>-1</td><td>-1</td><td>-1</td><td>-1</td><td>-1</td></tr>\n",
       "\t<tr><th scope=row>12428</th><td>-1</td><td>-1</td><td>-1</td><td>-1</td><td>-1</td><td>-1</td><td>-1</td><td>-1</td><td>-1</td><td>-1</td><td>⋯</td><td>-1</td><td>-1</td><td>-1</td><td> 0</td><td> 0</td><td>-1</td><td>-1</td><td>-1</td><td>-1</td><td>-1</td></tr>\n",
       "\t<tr><th scope=row>13669</th><td> 0</td><td> 1</td><td> 0</td><td> 0</td><td> 0</td><td> 0</td><td> 1</td><td> 0</td><td> 1</td><td> 0</td><td>⋯</td><td> 1</td><td> 1</td><td> 0</td><td> 1</td><td> 1</td><td> 0</td><td> 1</td><td> 0</td><td> 1</td><td> 0</td></tr>\n",
       "\t<tr><th scope=row>13919</th><td>-1</td><td>-1</td><td>-1</td><td> 0</td><td>-1</td><td>-1</td><td> 0</td><td>-1</td><td> 0</td><td>-1</td><td>⋯</td><td> 1</td><td>-1</td><td>-1</td><td> 0</td><td> 0</td><td> 1</td><td>-1</td><td>-1</td><td>-1</td><td>-1</td></tr>\n",
       "\t<tr><th scope=row>14715</th><td> 0</td><td> 1</td><td> 0</td><td> 1</td><td> 1</td><td> 0</td><td> 1</td><td> 0</td><td> 1</td><td> 0</td><td>⋯</td><td> 1</td><td> 1</td><td> 1</td><td> 1</td><td> 1</td><td> 1</td><td> 0</td><td> 1</td><td> 0</td><td> 0</td></tr>\n",
       "\t<tr><th scope=row>15407</th><td>-1</td><td>-1</td><td>-1</td><td> 0</td><td>-1</td><td>-1</td><td>-1</td><td>-1</td><td> 0</td><td>-1</td><td>⋯</td><td> 1</td><td>-1</td><td>-1</td><td> 0</td><td> 0</td><td> 0</td><td>-1</td><td>-1</td><td>-1</td><td>-1</td></tr>\n",
       "\t<tr><th scope=row>15537</th><td>-1</td><td>-1</td><td>-1</td><td> 0</td><td>-1</td><td>-1</td><td> 0</td><td>-1</td><td> 1</td><td>-1</td><td>⋯</td><td> 1</td><td>-1</td><td> 0</td><td> 0</td><td> 1</td><td> 1</td><td>-1</td><td>-1</td><td>-1</td><td>-1</td></tr>\n",
       "\t<tr><th scope=row>16180</th><td>-1</td><td>-1</td><td>-1</td><td> 0</td><td>-1</td><td>-1</td><td> 0</td><td>-1</td><td> 0</td><td>-1</td><td>⋯</td><td> 0</td><td>-1</td><td>-1</td><td> 0</td><td> 0</td><td> 0</td><td>-1</td><td>-1</td><td>-1</td><td>-1</td></tr>\n",
       "\t<tr><th scope=row>17581</th><td> 0</td><td> 0</td><td> 0</td><td> 1</td><td> 0</td><td> 0</td><td> 1</td><td> 1</td><td> 1</td><td> 0</td><td>⋯</td><td> 1</td><td> 0</td><td> 1</td><td> 1</td><td> 1</td><td> 0</td><td> 1</td><td> 0</td><td> 0</td><td> 0</td></tr>\n",
       "\t<tr><th scope=row>18184</th><td>-1</td><td>-1</td><td>-1</td><td> 0</td><td>-1</td><td>-1</td><td> 0</td><td>-1</td><td> 1</td><td>-1</td><td>⋯</td><td> 0</td><td>-1</td><td> 0</td><td> 0</td><td> 0</td><td> 1</td><td>-1</td><td>-1</td><td>-1</td><td>-1</td></tr>\n",
       "\t<tr><th scope=row>19313</th><td>-1</td><td>-1</td><td>-1</td><td> 0</td><td>-1</td><td>-1</td><td> 1</td><td>-1</td><td> 0</td><td>-1</td><td>⋯</td><td> 0</td><td>-1</td><td>-1</td><td> 0</td><td> 0</td><td> 0</td><td>-1</td><td>-1</td><td>-1</td><td>-1</td></tr>\n",
       "\t<tr><th scope=row>19747</th><td>-1</td><td>-1</td><td>-1</td><td>-1</td><td>-1</td><td>-1</td><td>-1</td><td>-1</td><td>-1</td><td>-1</td><td>⋯</td><td>-1</td><td>-1</td><td>-1</td><td>-1</td><td>-1</td><td>-1</td><td>-1</td><td>-1</td><td>-1</td><td>-1</td></tr>\n",
       "\t<tr><th scope=row>20374</th><td>-1</td><td>-1</td><td>-1</td><td>-1</td><td>-1</td><td>-1</td><td>-1</td><td>-1</td><td>-1</td><td>-1</td><td>⋯</td><td>-1</td><td>-1</td><td>-1</td><td> 0</td><td> 0</td><td>-1</td><td>-1</td><td>-1</td><td>-1</td><td>-1</td></tr>\n",
       "\t<tr><th scope=row>⋮</th><td>⋮</td><td>⋮</td><td>⋮</td><td>⋮</td><td>⋮</td><td>⋮</td><td>⋮</td><td>⋮</td><td>⋮</td><td>⋮</td><td>⋱</td><td>⋮</td><td>⋮</td><td>⋮</td><td>⋮</td><td>⋮</td><td>⋮</td><td>⋮</td><td>⋮</td><td>⋮</td><td>⋮</td></tr>\n",
       "\t<tr><th scope=row>38829</th><td>-1</td><td> 0</td><td>-1</td><td> 1</td><td> 0</td><td> 0</td><td> 0</td><td> 0</td><td> 1</td><td>-1</td><td>⋯</td><td> 0</td><td>-1</td><td> 1</td><td> 0</td><td> 1</td><td> 1</td><td>-1</td><td> 0</td><td>-1</td><td> 0</td></tr>\n",
       "\t<tr><th scope=row>38900</th><td> 1</td><td> 0</td><td>-1</td><td> 1</td><td> 1</td><td> 0</td><td> 1</td><td> 0</td><td> 0</td><td> 0</td><td>⋯</td><td> 1</td><td> 0</td><td> 0</td><td> 1</td><td> 1</td><td> 1</td><td> 0</td><td> 1</td><td> 0</td><td> 0</td></tr>\n",
       "\t<tr><th scope=row>40765</th><td>-1</td><td> 1</td><td>-1</td><td> 1</td><td> 0</td><td> 0</td><td> 1</td><td> 0</td><td> 1</td><td>-1</td><td>⋯</td><td> 1</td><td>-1</td><td> 0</td><td> 1</td><td> 0</td><td> 1</td><td>-1</td><td> 0</td><td>-1</td><td> 0</td></tr>\n",
       "\t<tr><th scope=row>40826</th><td>-1</td><td> 0</td><td>-1</td><td> 0</td><td> 0</td><td>-1</td><td> 0</td><td>-1</td><td> 1</td><td>-1</td><td>⋯</td><td> 0</td><td>-1</td><td> 0</td><td> 1</td><td> 0</td><td> 0</td><td>-1</td><td>-1</td><td>-1</td><td>-1</td></tr>\n",
       "\t<tr><th scope=row>41124</th><td>-1</td><td> 0</td><td>-1</td><td> 1</td><td> 0</td><td>-1</td><td> 0</td><td>-1</td><td> 0</td><td>-1</td><td>⋯</td><td> 0</td><td>-1</td><td> 0</td><td> 1</td><td> 1</td><td> 1</td><td>-1</td><td>-1</td><td>-1</td><td>-1</td></tr>\n",
       "\t<tr><th scope=row>90</th><td> 0</td><td> 0</td><td>-1</td><td> 1</td><td> 1</td><td> 0</td><td> 0</td><td> 0</td><td> 1</td><td> 0</td><td>⋯</td><td> 0</td><td> 0</td><td> 1</td><td> 0</td><td> 1</td><td> 0</td><td> 0</td><td> 0</td><td> 0</td><td> 0</td></tr>\n",
       "\t<tr><th scope=row>498</th><td>-1</td><td> 0</td><td>-1</td><td> 1</td><td> 1</td><td> 0</td><td> 1</td><td> 0</td><td> 0</td><td>-1</td><td>⋯</td><td> 1</td><td> 1</td><td> 0</td><td> 1</td><td> 0</td><td> 1</td><td>-1</td><td> 1</td><td>-1</td><td> 0</td></tr>\n",
       "\t<tr><th scope=row>725</th><td> 0</td><td> 1</td><td> 0</td><td> 1</td><td> 1</td><td> 0</td><td> 1</td><td> 1</td><td> 1</td><td> 0</td><td>⋯</td><td> 1</td><td> 0</td><td> 0</td><td> 1</td><td> 1</td><td> 0</td><td> 1</td><td> 0</td><td> 0</td><td> 1</td></tr>\n",
       "\t<tr><th scope=row>820</th><td>-1</td><td> 0</td><td>-1</td><td> 0</td><td> 0</td><td>-1</td><td> 1</td><td>-1</td><td> 1</td><td>-1</td><td>⋯</td><td> 0</td><td>-1</td><td> 0</td><td> 1</td><td> 1</td><td> 0</td><td>-1</td><td>-1</td><td>-1</td><td>-1</td></tr>\n",
       "\t<tr><th scope=row>1929</th><td>-1</td><td>-1</td><td>-1</td><td> 0</td><td>-1</td><td>-1</td><td>-1</td><td>-1</td><td> 0</td><td>-1</td><td>⋯</td><td> 0</td><td>-1</td><td>-1</td><td> 0</td><td> 0</td><td> 0</td><td>-1</td><td>-1</td><td>-1</td><td>-1</td></tr>\n",
       "\t<tr><th scope=row>2253</th><td>-1</td><td> 0</td><td>-1</td><td> 1</td><td> 0</td><td>-1</td><td> 1</td><td>-1</td><td> 1</td><td>-1</td><td>⋯</td><td> 1</td><td>-1</td><td> 0</td><td> 1</td><td> 1</td><td> 1</td><td>-1</td><td>-1</td><td>-1</td><td>-1</td></tr>\n",
       "\t<tr><th scope=row>3032</th><td>-1</td><td> 1</td><td>-1</td><td> 1</td><td> 0</td><td>-1</td><td> 0</td><td> 0</td><td> 0</td><td>-1</td><td>⋯</td><td> 1</td><td>-1</td><td> 0</td><td> 1</td><td> 1</td><td> 1</td><td>-1</td><td>-1</td><td>-1</td><td> 0</td></tr>\n",
       "\t<tr><th scope=row>3158</th><td>-1</td><td> 0</td><td>-1</td><td> 1</td><td> 1</td><td> 0</td><td> 1</td><td> 0</td><td> 0</td><td>-1</td><td>⋯</td><td> 0</td><td> 0</td><td> 0</td><td> 1</td><td> 0</td><td> 1</td><td>-1</td><td> 0</td><td>-1</td><td> 0</td></tr>\n",
       "\t<tr><th scope=row>3326</th><td>-1</td><td> 0</td><td>-1</td><td> 1</td><td> 1</td><td>-1</td><td> 0</td><td>-1</td><td> 1</td><td>-1</td><td>⋯</td><td> 1</td><td>-1</td><td> 0</td><td> 1</td><td> 1</td><td> 0</td><td>-1</td><td>-1</td><td>-1</td><td>-1</td></tr>\n",
       "\t<tr><th scope=row>4939</th><td>-1</td><td>-1</td><td>-1</td><td> 0</td><td>-1</td><td>-1</td><td>-1</td><td>-1</td><td> 0</td><td>-1</td><td>⋯</td><td> 0</td><td>-1</td><td>-1</td><td> 0</td><td> 0</td><td>-1</td><td>-1</td><td>-1</td><td>-1</td><td>-1</td></tr>\n",
       "\t<tr><th scope=row>5638</th><td>-1</td><td>-1</td><td>-1</td><td>-1</td><td>-1</td><td>-1</td><td>-1</td><td>-1</td><td>-1</td><td>-1</td><td>⋯</td><td>-1</td><td>-1</td><td>-1</td><td> 0</td><td> 0</td><td>-1</td><td>-1</td><td>-1</td><td>-1</td><td>-1</td></tr>\n",
       "\t<tr><th scope=row>5674</th><td> 0</td><td> 0</td><td> 0</td><td> 1</td><td> 1</td><td> 0</td><td> 1</td><td> 0</td><td> 1</td><td> 0</td><td>⋯</td><td> 0</td><td> 0</td><td> 0</td><td> 1</td><td> 1</td><td> 0</td><td> 0</td><td> 0</td><td> 0</td><td> 0</td></tr>\n",
       "\t<tr><th scope=row>5735</th><td>-1</td><td>-1</td><td>-1</td><td> 0</td><td>-1</td><td>-1</td><td>-1</td><td>-1</td><td> 1</td><td>-1</td><td>⋯</td><td> 0</td><td>-1</td><td>-1</td><td> 0</td><td> 0</td><td> 1</td><td>-1</td><td>-1</td><td>-1</td><td>-1</td></tr>\n",
       "\t<tr><th scope=row>6262</th><td>-1</td><td>-1</td><td>-1</td><td> 0</td><td>-1</td><td>-1</td><td> 0</td><td>-1</td><td> 0</td><td>-1</td><td>⋯</td><td> 0</td><td>-1</td><td> 0</td><td> 1</td><td> 1</td><td> 0</td><td>-1</td><td>-1</td><td>-1</td><td>-1</td></tr>\n",
       "\t<tr><th scope=row>6604</th><td>-1</td><td> 0</td><td>-1</td><td> 0</td><td> 0</td><td> 1</td><td> 1</td><td> 0</td><td> 1</td><td>-1</td><td>⋯</td><td> 1</td><td> 0</td><td> 0</td><td> 1</td><td> 1</td><td> 1</td><td>-1</td><td> 0</td><td>-1</td><td> 1</td></tr>\n",
       "\t<tr><th scope=row>7025</th><td>-1</td><td> 0</td><td>-1</td><td> 1</td><td> 0</td><td>-1</td><td> 0</td><td>-1</td><td> 0</td><td>-1</td><td>⋯</td><td> 1</td><td>-1</td><td> 0</td><td> 1</td><td> 0</td><td> 1</td><td>-1</td><td>-1</td><td>-1</td><td>-1</td></tr>\n",
       "\t<tr><th scope=row>7454</th><td> 0</td><td> 0</td><td> 0</td><td> 1</td><td> 1</td><td> 0</td><td> 0</td><td> 0</td><td> 1</td><td> 0</td><td>⋯</td><td> 1</td><td> 1</td><td> 1</td><td> 1</td><td> 1</td><td> 1</td><td> 0</td><td> 0</td><td> 0</td><td> 1</td></tr>\n",
       "\t<tr><th scope=row>8699</th><td>-1</td><td>-1</td><td>-1</td><td> 1</td><td>-1</td><td>-1</td><td> 0</td><td>-1</td><td> 0</td><td>-1</td><td>⋯</td><td> 0</td><td>-1</td><td> 0</td><td> 0</td><td> 1</td><td> 0</td><td>-1</td><td>-1</td><td>-1</td><td>-1</td></tr>\n",
       "\t<tr><th scope=row>9282</th><td>-1</td><td>-1</td><td>-1</td><td> 0</td><td>-1</td><td>-1</td><td>-1</td><td>-1</td><td> 0</td><td>-1</td><td>⋯</td><td> 0</td><td>-1</td><td>-1</td><td> 0</td><td> 0</td><td> 0</td><td>-1</td><td>-1</td><td>-1</td><td>-1</td></tr>\n",
       "\t<tr><th scope=row>9607</th><td>-1</td><td>-1</td><td>-1</td><td> 0</td><td>-1</td><td>-1</td><td>-1</td><td>-1</td><td> 0</td><td>-1</td><td>⋯</td><td> 0</td><td>-1</td><td>-1</td><td> 0</td><td> 0</td><td>-1</td><td>-1</td><td>-1</td><td>-1</td><td>-1</td></tr>\n",
       "\t<tr><th scope=row>10194</th><td> 0</td><td> 0</td><td>-1</td><td> 1</td><td> 0</td><td> 0</td><td> 1</td><td> 1</td><td> 1</td><td> 0</td><td>⋯</td><td> 1</td><td> 0</td><td> 1</td><td> 1</td><td> 1</td><td> 0</td><td> 0</td><td> 1</td><td> 0</td><td> 0</td></tr>\n",
       "\t<tr><th scope=row>12356</th><td>-1</td><td>-1</td><td>-1</td><td>-1</td><td>-1</td><td>-1</td><td>-1</td><td>-1</td><td>-1</td><td>-1</td><td>⋯</td><td>-1</td><td>-1</td><td>-1</td><td>-1</td><td>-1</td><td>-1</td><td>-1</td><td>-1</td><td>-1</td><td>-1</td></tr>\n",
       "\t<tr><th scope=row>12644</th><td>-1</td><td> 0</td><td>-1</td><td> 0</td><td> 0</td><td> 0</td><td> 0</td><td> 0</td><td> 0</td><td>-1</td><td>⋯</td><td> 1</td><td>-1</td><td> 0</td><td> 1</td><td> 0</td><td> 0</td><td>-1</td><td> 0</td><td>-1</td><td> 0</td></tr>\n",
       "\t<tr><th scope=row>13342</th><td>-1</td><td>-1</td><td>-1</td><td>-1</td><td>-1</td><td>-1</td><td>-1</td><td>-1</td><td>-1</td><td>-1</td><td>⋯</td><td>-1</td><td>-1</td><td>-1</td><td>-1</td><td>-1</td><td>-1</td><td>-1</td><td>-1</td><td>-1</td><td>-1</td></tr>\n",
       "\t<tr><th scope=row>13514</th><td>-1</td><td>-1</td><td>-1</td><td> 0</td><td>-1</td><td>-1</td><td> 0</td><td>-1</td><td> 0</td><td>-1</td><td>⋯</td><td> 0</td><td>-1</td><td>-1</td><td> 0</td><td> 1</td><td> 0</td><td>-1</td><td>-1</td><td>-1</td><td>-1</td></tr>\n",
       "</tbody>\n",
       "</table>\n"
      ],
      "text/latex": [
       "A matrix: 500 × 151 of type int\n",
       "\\begin{tabular}{r|lllllllllllllllllllll}\n",
       "  & SNP1 & SNP3 & SNP4 & SNP5 & SNP6 & SNP7 & SNP8 & SNP9 & SNP10 & SNP11 & ⋯ & SNP155 & SNP156 & SNP157 & SNP158 & SNP159 & SNP161 & SNP163 & SNP164 & SNP165 & SNP166\\\\\n",
       "\\hline\n",
       "\t756 & -1 & -1 & -1 & -1 & -1 & -1 & -1 & -1 & -1 & -1 & ⋯ & -1 & -1 & -1 & -1 & -1 & -1 & -1 & -1 & -1 & -1\\\\\n",
       "\t1706 &  1 &  1 &  0 &  1 &  1 &  0 &  1 &  0 &  1 &  0 & ⋯ &  0 &  0 &  1 &  1 &  0 &  0 &  0 &  0 &  0 &  0\\\\\n",
       "\t1724 & -1 & -1 & -1 &  0 & -1 & -1 &  0 & -1 &  0 & -1 & ⋯ &  1 & -1 & -1 &  0 &  0 &  0 & -1 & -1 & -1 & -1\\\\\n",
       "\t2121 & -1 & -1 & -1 &  0 & -1 & -1 & -1 & -1 &  0 & -1 & ⋯ &  0 & -1 & -1 &  0 &  0 &  0 & -1 & -1 & -1 & -1\\\\\n",
       "\t3838 & -1 &  1 & -1 &  1 &  0 & -1 &  0 & -1 &  1 & -1 & ⋯ &  0 & -1 &  0 &  0 &  1 &  1 & -1 & -1 & -1 & -1\\\\\n",
       "\t4662 & -1 &  0 & -1 &  1 &  0 & -1 &  0 & -1 &  0 & -1 & ⋯ &  0 & -1 &  0 &  1 &  0 &  1 & -1 & -1 & -1 &  0\\\\\n",
       "\t4912 & -1 &  0 & -1 &  0 &  0 & -1 &  0 & -1 &  0 & -1 & ⋯ &  1 & -1 &  0 &  1 &  0 &  0 & -1 & -1 & -1 & -1\\\\\n",
       "\t5154 & -1 & -1 & -1 &  0 & -1 & -1 &  0 & -1 &  0 & -1 & ⋯ &  0 & -1 & -1 &  0 &  0 &  0 & -1 & -1 & -1 & -1\\\\\n",
       "\t5551 &  0 &  1 &  0 &  1 &  1 &  0 &  1 &  1 &  1 &  0 & ⋯ &  0 &  0 &  1 &  1 &  1 &  1 &  0 &  0 &  1 &  0\\\\\n",
       "\t6043 &  0 &  0 & -1 &  1 &  0 &  0 &  1 &  0 &  1 & -1 & ⋯ &  1 &  0 &  0 &  0 &  0 &  1 &  0 &  0 &  0 &  0\\\\\n",
       "\t6597 & -1 &  0 & -1 &  1 &  0 &  0 &  0 &  0 &  1 & -1 & ⋯ &  1 & -1 &  0 &  1 &  1 &  0 & -1 &  0 & -1 &  0\\\\\n",
       "\t7066 & -1 & -1 & -1 &  1 & -1 & -1 &  0 & -1 &  0 & -1 & ⋯ &  0 & -1 & -1 &  1 &  0 &  0 & -1 & -1 & -1 & -1\\\\\n",
       "\t7587 & -1 &  0 & -1 &  0 &  0 & -1 &  1 & -1 &  1 & -1 & ⋯ &  1 & -1 &  1 &  0 &  0 &  0 & -1 & -1 & -1 & -1\\\\\n",
       "\t8066 & -1 & -1 & -1 & -1 & -1 & -1 & -1 & -1 & -1 & -1 & ⋯ & -1 & -1 & -1 & -1 & -1 & -1 & -1 & -1 & -1 & -1\\\\\n",
       "\t8520 & -1 & -1 & -1 &  0 & -1 & -1 & -1 & -1 &  0 & -1 & ⋯ &  0 & -1 & -1 &  1 &  0 &  0 & -1 & -1 & -1 & -1\\\\\n",
       "\t9195 & -1 &  0 & -1 &  0 &  1 & -1 &  1 & -1 &  0 & -1 & ⋯ &  0 & -1 &  0 &  0 &  0 &  1 & -1 & -1 & -1 & -1\\\\\n",
       "\t9760 & -1 &  0 & -1 &  0 &  1 & -1 &  0 & -1 &  0 & -1 & ⋯ &  1 & -1 &  0 &  1 &  0 &  0 & -1 & -1 & -1 &  0\\\\\n",
       "\t12083 & -1 & -1 & -1 & -1 & -1 & -1 & -1 & -1 & -1 & -1 & ⋯ & -1 & -1 & -1 &  0 &  0 & -1 & -1 & -1 & -1 & -1\\\\\n",
       "\t12428 & -1 & -1 & -1 & -1 & -1 & -1 & -1 & -1 & -1 & -1 & ⋯ & -1 & -1 & -1 &  0 &  0 & -1 & -1 & -1 & -1 & -1\\\\\n",
       "\t13669 &  0 &  1 &  0 &  0 &  0 &  0 &  1 &  0 &  1 &  0 & ⋯ &  1 &  1 &  0 &  1 &  1 &  0 &  1 &  0 &  1 &  0\\\\\n",
       "\t13919 & -1 & -1 & -1 &  0 & -1 & -1 &  0 & -1 &  0 & -1 & ⋯ &  1 & -1 & -1 &  0 &  0 &  1 & -1 & -1 & -1 & -1\\\\\n",
       "\t14715 &  0 &  1 &  0 &  1 &  1 &  0 &  1 &  0 &  1 &  0 & ⋯ &  1 &  1 &  1 &  1 &  1 &  1 &  0 &  1 &  0 &  0\\\\\n",
       "\t15407 & -1 & -1 & -1 &  0 & -1 & -1 & -1 & -1 &  0 & -1 & ⋯ &  1 & -1 & -1 &  0 &  0 &  0 & -1 & -1 & -1 & -1\\\\\n",
       "\t15537 & -1 & -1 & -1 &  0 & -1 & -1 &  0 & -1 &  1 & -1 & ⋯ &  1 & -1 &  0 &  0 &  1 &  1 & -1 & -1 & -1 & -1\\\\\n",
       "\t16180 & -1 & -1 & -1 &  0 & -1 & -1 &  0 & -1 &  0 & -1 & ⋯ &  0 & -1 & -1 &  0 &  0 &  0 & -1 & -1 & -1 & -1\\\\\n",
       "\t17581 &  0 &  0 &  0 &  1 &  0 &  0 &  1 &  1 &  1 &  0 & ⋯ &  1 &  0 &  1 &  1 &  1 &  0 &  1 &  0 &  0 &  0\\\\\n",
       "\t18184 & -1 & -1 & -1 &  0 & -1 & -1 &  0 & -1 &  1 & -1 & ⋯ &  0 & -1 &  0 &  0 &  0 &  1 & -1 & -1 & -1 & -1\\\\\n",
       "\t19313 & -1 & -1 & -1 &  0 & -1 & -1 &  1 & -1 &  0 & -1 & ⋯ &  0 & -1 & -1 &  0 &  0 &  0 & -1 & -1 & -1 & -1\\\\\n",
       "\t19747 & -1 & -1 & -1 & -1 & -1 & -1 & -1 & -1 & -1 & -1 & ⋯ & -1 & -1 & -1 & -1 & -1 & -1 & -1 & -1 & -1 & -1\\\\\n",
       "\t20374 & -1 & -1 & -1 & -1 & -1 & -1 & -1 & -1 & -1 & -1 & ⋯ & -1 & -1 & -1 &  0 &  0 & -1 & -1 & -1 & -1 & -1\\\\\n",
       "\t⋮ & ⋮ & ⋮ & ⋮ & ⋮ & ⋮ & ⋮ & ⋮ & ⋮ & ⋮ & ⋮ & ⋱ & ⋮ & ⋮ & ⋮ & ⋮ & ⋮ & ⋮ & ⋮ & ⋮ & ⋮ & ⋮\\\\\n",
       "\t38829 & -1 &  0 & -1 &  1 &  0 &  0 &  0 &  0 &  1 & -1 & ⋯ &  0 & -1 &  1 &  0 &  1 &  1 & -1 &  0 & -1 &  0\\\\\n",
       "\t38900 &  1 &  0 & -1 &  1 &  1 &  0 &  1 &  0 &  0 &  0 & ⋯ &  1 &  0 &  0 &  1 &  1 &  1 &  0 &  1 &  0 &  0\\\\\n",
       "\t40765 & -1 &  1 & -1 &  1 &  0 &  0 &  1 &  0 &  1 & -1 & ⋯ &  1 & -1 &  0 &  1 &  0 &  1 & -1 &  0 & -1 &  0\\\\\n",
       "\t40826 & -1 &  0 & -1 &  0 &  0 & -1 &  0 & -1 &  1 & -1 & ⋯ &  0 & -1 &  0 &  1 &  0 &  0 & -1 & -1 & -1 & -1\\\\\n",
       "\t41124 & -1 &  0 & -1 &  1 &  0 & -1 &  0 & -1 &  0 & -1 & ⋯ &  0 & -1 &  0 &  1 &  1 &  1 & -1 & -1 & -1 & -1\\\\\n",
       "\t90 &  0 &  0 & -1 &  1 &  1 &  0 &  0 &  0 &  1 &  0 & ⋯ &  0 &  0 &  1 &  0 &  1 &  0 &  0 &  0 &  0 &  0\\\\\n",
       "\t498 & -1 &  0 & -1 &  1 &  1 &  0 &  1 &  0 &  0 & -1 & ⋯ &  1 &  1 &  0 &  1 &  0 &  1 & -1 &  1 & -1 &  0\\\\\n",
       "\t725 &  0 &  1 &  0 &  1 &  1 &  0 &  1 &  1 &  1 &  0 & ⋯ &  1 &  0 &  0 &  1 &  1 &  0 &  1 &  0 &  0 &  1\\\\\n",
       "\t820 & -1 &  0 & -1 &  0 &  0 & -1 &  1 & -1 &  1 & -1 & ⋯ &  0 & -1 &  0 &  1 &  1 &  0 & -1 & -1 & -1 & -1\\\\\n",
       "\t1929 & -1 & -1 & -1 &  0 & -1 & -1 & -1 & -1 &  0 & -1 & ⋯ &  0 & -1 & -1 &  0 &  0 &  0 & -1 & -1 & -1 & -1\\\\\n",
       "\t2253 & -1 &  0 & -1 &  1 &  0 & -1 &  1 & -1 &  1 & -1 & ⋯ &  1 & -1 &  0 &  1 &  1 &  1 & -1 & -1 & -1 & -1\\\\\n",
       "\t3032 & -1 &  1 & -1 &  1 &  0 & -1 &  0 &  0 &  0 & -1 & ⋯ &  1 & -1 &  0 &  1 &  1 &  1 & -1 & -1 & -1 &  0\\\\\n",
       "\t3158 & -1 &  0 & -1 &  1 &  1 &  0 &  1 &  0 &  0 & -1 & ⋯ &  0 &  0 &  0 &  1 &  0 &  1 & -1 &  0 & -1 &  0\\\\\n",
       "\t3326 & -1 &  0 & -1 &  1 &  1 & -1 &  0 & -1 &  1 & -1 & ⋯ &  1 & -1 &  0 &  1 &  1 &  0 & -1 & -1 & -1 & -1\\\\\n",
       "\t4939 & -1 & -1 & -1 &  0 & -1 & -1 & -1 & -1 &  0 & -1 & ⋯ &  0 & -1 & -1 &  0 &  0 & -1 & -1 & -1 & -1 & -1\\\\\n",
       "\t5638 & -1 & -1 & -1 & -1 & -1 & -1 & -1 & -1 & -1 & -1 & ⋯ & -1 & -1 & -1 &  0 &  0 & -1 & -1 & -1 & -1 & -1\\\\\n",
       "\t5674 &  0 &  0 &  0 &  1 &  1 &  0 &  1 &  0 &  1 &  0 & ⋯ &  0 &  0 &  0 &  1 &  1 &  0 &  0 &  0 &  0 &  0\\\\\n",
       "\t5735 & -1 & -1 & -1 &  0 & -1 & -1 & -1 & -1 &  1 & -1 & ⋯ &  0 & -1 & -1 &  0 &  0 &  1 & -1 & -1 & -1 & -1\\\\\n",
       "\t6262 & -1 & -1 & -1 &  0 & -1 & -1 &  0 & -1 &  0 & -1 & ⋯ &  0 & -1 &  0 &  1 &  1 &  0 & -1 & -1 & -1 & -1\\\\\n",
       "\t6604 & -1 &  0 & -1 &  0 &  0 &  1 &  1 &  0 &  1 & -1 & ⋯ &  1 &  0 &  0 &  1 &  1 &  1 & -1 &  0 & -1 &  1\\\\\n",
       "\t7025 & -1 &  0 & -1 &  1 &  0 & -1 &  0 & -1 &  0 & -1 & ⋯ &  1 & -1 &  0 &  1 &  0 &  1 & -1 & -1 & -1 & -1\\\\\n",
       "\t7454 &  0 &  0 &  0 &  1 &  1 &  0 &  0 &  0 &  1 &  0 & ⋯ &  1 &  1 &  1 &  1 &  1 &  1 &  0 &  0 &  0 &  1\\\\\n",
       "\t8699 & -1 & -1 & -1 &  1 & -1 & -1 &  0 & -1 &  0 & -1 & ⋯ &  0 & -1 &  0 &  0 &  1 &  0 & -1 & -1 & -1 & -1\\\\\n",
       "\t9282 & -1 & -1 & -1 &  0 & -1 & -1 & -1 & -1 &  0 & -1 & ⋯ &  0 & -1 & -1 &  0 &  0 &  0 & -1 & -1 & -1 & -1\\\\\n",
       "\t9607 & -1 & -1 & -1 &  0 & -1 & -1 & -1 & -1 &  0 & -1 & ⋯ &  0 & -1 & -1 &  0 &  0 & -1 & -1 & -1 & -1 & -1\\\\\n",
       "\t10194 &  0 &  0 & -1 &  1 &  0 &  0 &  1 &  1 &  1 &  0 & ⋯ &  1 &  0 &  1 &  1 &  1 &  0 &  0 &  1 &  0 &  0\\\\\n",
       "\t12356 & -1 & -1 & -1 & -1 & -1 & -1 & -1 & -1 & -1 & -1 & ⋯ & -1 & -1 & -1 & -1 & -1 & -1 & -1 & -1 & -1 & -1\\\\\n",
       "\t12644 & -1 &  0 & -1 &  0 &  0 &  0 &  0 &  0 &  0 & -1 & ⋯ &  1 & -1 &  0 &  1 &  0 &  0 & -1 &  0 & -1 &  0\\\\\n",
       "\t13342 & -1 & -1 & -1 & -1 & -1 & -1 & -1 & -1 & -1 & -1 & ⋯ & -1 & -1 & -1 & -1 & -1 & -1 & -1 & -1 & -1 & -1\\\\\n",
       "\t13514 & -1 & -1 & -1 &  0 & -1 & -1 &  0 & -1 &  0 & -1 & ⋯ &  0 & -1 & -1 &  0 &  1 &  0 & -1 & -1 & -1 & -1\\\\\n",
       "\\end{tabular}\n"
      ],
      "text/markdown": [
       "\n",
       "A matrix: 500 × 151 of type int\n",
       "\n",
       "| <!--/--> | SNP1 | SNP3 | SNP4 | SNP5 | SNP6 | SNP7 | SNP8 | SNP9 | SNP10 | SNP11 | ⋯ | SNP155 | SNP156 | SNP157 | SNP158 | SNP159 | SNP161 | SNP163 | SNP164 | SNP165 | SNP166 |\n",
       "|---|---|---|---|---|---|---|---|---|---|---|---|---|---|---|---|---|---|---|---|---|---|\n",
       "| 756 | -1 | -1 | -1 | -1 | -1 | -1 | -1 | -1 | -1 | -1 | ⋯ | -1 | -1 | -1 | -1 | -1 | -1 | -1 | -1 | -1 | -1 |\n",
       "| 1706 |  1 |  1 |  0 |  1 |  1 |  0 |  1 |  0 |  1 |  0 | ⋯ |  0 |  0 |  1 |  1 |  0 |  0 |  0 |  0 |  0 |  0 |\n",
       "| 1724 | -1 | -1 | -1 |  0 | -1 | -1 |  0 | -1 |  0 | -1 | ⋯ |  1 | -1 | -1 |  0 |  0 |  0 | -1 | -1 | -1 | -1 |\n",
       "| 2121 | -1 | -1 | -1 |  0 | -1 | -1 | -1 | -1 |  0 | -1 | ⋯ |  0 | -1 | -1 |  0 |  0 |  0 | -1 | -1 | -1 | -1 |\n",
       "| 3838 | -1 |  1 | -1 |  1 |  0 | -1 |  0 | -1 |  1 | -1 | ⋯ |  0 | -1 |  0 |  0 |  1 |  1 | -1 | -1 | -1 | -1 |\n",
       "| 4662 | -1 |  0 | -1 |  1 |  0 | -1 |  0 | -1 |  0 | -1 | ⋯ |  0 | -1 |  0 |  1 |  0 |  1 | -1 | -1 | -1 |  0 |\n",
       "| 4912 | -1 |  0 | -1 |  0 |  0 | -1 |  0 | -1 |  0 | -1 | ⋯ |  1 | -1 |  0 |  1 |  0 |  0 | -1 | -1 | -1 | -1 |\n",
       "| 5154 | -1 | -1 | -1 |  0 | -1 | -1 |  0 | -1 |  0 | -1 | ⋯ |  0 | -1 | -1 |  0 |  0 |  0 | -1 | -1 | -1 | -1 |\n",
       "| 5551 |  0 |  1 |  0 |  1 |  1 |  0 |  1 |  1 |  1 |  0 | ⋯ |  0 |  0 |  1 |  1 |  1 |  1 |  0 |  0 |  1 |  0 |\n",
       "| 6043 |  0 |  0 | -1 |  1 |  0 |  0 |  1 |  0 |  1 | -1 | ⋯ |  1 |  0 |  0 |  0 |  0 |  1 |  0 |  0 |  0 |  0 |\n",
       "| 6597 | -1 |  0 | -1 |  1 |  0 |  0 |  0 |  0 |  1 | -1 | ⋯ |  1 | -1 |  0 |  1 |  1 |  0 | -1 |  0 | -1 |  0 |\n",
       "| 7066 | -1 | -1 | -1 |  1 | -1 | -1 |  0 | -1 |  0 | -1 | ⋯ |  0 | -1 | -1 |  1 |  0 |  0 | -1 | -1 | -1 | -1 |\n",
       "| 7587 | -1 |  0 | -1 |  0 |  0 | -1 |  1 | -1 |  1 | -1 | ⋯ |  1 | -1 |  1 |  0 |  0 |  0 | -1 | -1 | -1 | -1 |\n",
       "| 8066 | -1 | -1 | -1 | -1 | -1 | -1 | -1 | -1 | -1 | -1 | ⋯ | -1 | -1 | -1 | -1 | -1 | -1 | -1 | -1 | -1 | -1 |\n",
       "| 8520 | -1 | -1 | -1 |  0 | -1 | -1 | -1 | -1 |  0 | -1 | ⋯ |  0 | -1 | -1 |  1 |  0 |  0 | -1 | -1 | -1 | -1 |\n",
       "| 9195 | -1 |  0 | -1 |  0 |  1 | -1 |  1 | -1 |  0 | -1 | ⋯ |  0 | -1 |  0 |  0 |  0 |  1 | -1 | -1 | -1 | -1 |\n",
       "| 9760 | -1 |  0 | -1 |  0 |  1 | -1 |  0 | -1 |  0 | -1 | ⋯ |  1 | -1 |  0 |  1 |  0 |  0 | -1 | -1 | -1 |  0 |\n",
       "| 12083 | -1 | -1 | -1 | -1 | -1 | -1 | -1 | -1 | -1 | -1 | ⋯ | -1 | -1 | -1 |  0 |  0 | -1 | -1 | -1 | -1 | -1 |\n",
       "| 12428 | -1 | -1 | -1 | -1 | -1 | -1 | -1 | -1 | -1 | -1 | ⋯ | -1 | -1 | -1 |  0 |  0 | -1 | -1 | -1 | -1 | -1 |\n",
       "| 13669 |  0 |  1 |  0 |  0 |  0 |  0 |  1 |  0 |  1 |  0 | ⋯ |  1 |  1 |  0 |  1 |  1 |  0 |  1 |  0 |  1 |  0 |\n",
       "| 13919 | -1 | -1 | -1 |  0 | -1 | -1 |  0 | -1 |  0 | -1 | ⋯ |  1 | -1 | -1 |  0 |  0 |  1 | -1 | -1 | -1 | -1 |\n",
       "| 14715 |  0 |  1 |  0 |  1 |  1 |  0 |  1 |  0 |  1 |  0 | ⋯ |  1 |  1 |  1 |  1 |  1 |  1 |  0 |  1 |  0 |  0 |\n",
       "| 15407 | -1 | -1 | -1 |  0 | -1 | -1 | -1 | -1 |  0 | -1 | ⋯ |  1 | -1 | -1 |  0 |  0 |  0 | -1 | -1 | -1 | -1 |\n",
       "| 15537 | -1 | -1 | -1 |  0 | -1 | -1 |  0 | -1 |  1 | -1 | ⋯ |  1 | -1 |  0 |  0 |  1 |  1 | -1 | -1 | -1 | -1 |\n",
       "| 16180 | -1 | -1 | -1 |  0 | -1 | -1 |  0 | -1 |  0 | -1 | ⋯ |  0 | -1 | -1 |  0 |  0 |  0 | -1 | -1 | -1 | -1 |\n",
       "| 17581 |  0 |  0 |  0 |  1 |  0 |  0 |  1 |  1 |  1 |  0 | ⋯ |  1 |  0 |  1 |  1 |  1 |  0 |  1 |  0 |  0 |  0 |\n",
       "| 18184 | -1 | -1 | -1 |  0 | -1 | -1 |  0 | -1 |  1 | -1 | ⋯ |  0 | -1 |  0 |  0 |  0 |  1 | -1 | -1 | -1 | -1 |\n",
       "| 19313 | -1 | -1 | -1 |  0 | -1 | -1 |  1 | -1 |  0 | -1 | ⋯ |  0 | -1 | -1 |  0 |  0 |  0 | -1 | -1 | -1 | -1 |\n",
       "| 19747 | -1 | -1 | -1 | -1 | -1 | -1 | -1 | -1 | -1 | -1 | ⋯ | -1 | -1 | -1 | -1 | -1 | -1 | -1 | -1 | -1 | -1 |\n",
       "| 20374 | -1 | -1 | -1 | -1 | -1 | -1 | -1 | -1 | -1 | -1 | ⋯ | -1 | -1 | -1 |  0 |  0 | -1 | -1 | -1 | -1 | -1 |\n",
       "| ⋮ | ⋮ | ⋮ | ⋮ | ⋮ | ⋮ | ⋮ | ⋮ | ⋮ | ⋮ | ⋮ | ⋱ | ⋮ | ⋮ | ⋮ | ⋮ | ⋮ | ⋮ | ⋮ | ⋮ | ⋮ | ⋮ |\n",
       "| 38829 | -1 |  0 | -1 |  1 |  0 |  0 |  0 |  0 |  1 | -1 | ⋯ |  0 | -1 |  1 |  0 |  1 |  1 | -1 |  0 | -1 |  0 |\n",
       "| 38900 |  1 |  0 | -1 |  1 |  1 |  0 |  1 |  0 |  0 |  0 | ⋯ |  1 |  0 |  0 |  1 |  1 |  1 |  0 |  1 |  0 |  0 |\n",
       "| 40765 | -1 |  1 | -1 |  1 |  0 |  0 |  1 |  0 |  1 | -1 | ⋯ |  1 | -1 |  0 |  1 |  0 |  1 | -1 |  0 | -1 |  0 |\n",
       "| 40826 | -1 |  0 | -1 |  0 |  0 | -1 |  0 | -1 |  1 | -1 | ⋯ |  0 | -1 |  0 |  1 |  0 |  0 | -1 | -1 | -1 | -1 |\n",
       "| 41124 | -1 |  0 | -1 |  1 |  0 | -1 |  0 | -1 |  0 | -1 | ⋯ |  0 | -1 |  0 |  1 |  1 |  1 | -1 | -1 | -1 | -1 |\n",
       "| 90 |  0 |  0 | -1 |  1 |  1 |  0 |  0 |  0 |  1 |  0 | ⋯ |  0 |  0 |  1 |  0 |  1 |  0 |  0 |  0 |  0 |  0 |\n",
       "| 498 | -1 |  0 | -1 |  1 |  1 |  0 |  1 |  0 |  0 | -1 | ⋯ |  1 |  1 |  0 |  1 |  0 |  1 | -1 |  1 | -1 |  0 |\n",
       "| 725 |  0 |  1 |  0 |  1 |  1 |  0 |  1 |  1 |  1 |  0 | ⋯ |  1 |  0 |  0 |  1 |  1 |  0 |  1 |  0 |  0 |  1 |\n",
       "| 820 | -1 |  0 | -1 |  0 |  0 | -1 |  1 | -1 |  1 | -1 | ⋯ |  0 | -1 |  0 |  1 |  1 |  0 | -1 | -1 | -1 | -1 |\n",
       "| 1929 | -1 | -1 | -1 |  0 | -1 | -1 | -1 | -1 |  0 | -1 | ⋯ |  0 | -1 | -1 |  0 |  0 |  0 | -1 | -1 | -1 | -1 |\n",
       "| 2253 | -1 |  0 | -1 |  1 |  0 | -1 |  1 | -1 |  1 | -1 | ⋯ |  1 | -1 |  0 |  1 |  1 |  1 | -1 | -1 | -1 | -1 |\n",
       "| 3032 | -1 |  1 | -1 |  1 |  0 | -1 |  0 |  0 |  0 | -1 | ⋯ |  1 | -1 |  0 |  1 |  1 |  1 | -1 | -1 | -1 |  0 |\n",
       "| 3158 | -1 |  0 | -1 |  1 |  1 |  0 |  1 |  0 |  0 | -1 | ⋯ |  0 |  0 |  0 |  1 |  0 |  1 | -1 |  0 | -1 |  0 |\n",
       "| 3326 | -1 |  0 | -1 |  1 |  1 | -1 |  0 | -1 |  1 | -1 | ⋯ |  1 | -1 |  0 |  1 |  1 |  0 | -1 | -1 | -1 | -1 |\n",
       "| 4939 | -1 | -1 | -1 |  0 | -1 | -1 | -1 | -1 |  0 | -1 | ⋯ |  0 | -1 | -1 |  0 |  0 | -1 | -1 | -1 | -1 | -1 |\n",
       "| 5638 | -1 | -1 | -1 | -1 | -1 | -1 | -1 | -1 | -1 | -1 | ⋯ | -1 | -1 | -1 |  0 |  0 | -1 | -1 | -1 | -1 | -1 |\n",
       "| 5674 |  0 |  0 |  0 |  1 |  1 |  0 |  1 |  0 |  1 |  0 | ⋯ |  0 |  0 |  0 |  1 |  1 |  0 |  0 |  0 |  0 |  0 |\n",
       "| 5735 | -1 | -1 | -1 |  0 | -1 | -1 | -1 | -1 |  1 | -1 | ⋯ |  0 | -1 | -1 |  0 |  0 |  1 | -1 | -1 | -1 | -1 |\n",
       "| 6262 | -1 | -1 | -1 |  0 | -1 | -1 |  0 | -1 |  0 | -1 | ⋯ |  0 | -1 |  0 |  1 |  1 |  0 | -1 | -1 | -1 | -1 |\n",
       "| 6604 | -1 |  0 | -1 |  0 |  0 |  1 |  1 |  0 |  1 | -1 | ⋯ |  1 |  0 |  0 |  1 |  1 |  1 | -1 |  0 | -1 |  1 |\n",
       "| 7025 | -1 |  0 | -1 |  1 |  0 | -1 |  0 | -1 |  0 | -1 | ⋯ |  1 | -1 |  0 |  1 |  0 |  1 | -1 | -1 | -1 | -1 |\n",
       "| 7454 |  0 |  0 |  0 |  1 |  1 |  0 |  0 |  0 |  1 |  0 | ⋯ |  1 |  1 |  1 |  1 |  1 |  1 |  0 |  0 |  0 |  1 |\n",
       "| 8699 | -1 | -1 | -1 |  1 | -1 | -1 |  0 | -1 |  0 | -1 | ⋯ |  0 | -1 |  0 |  0 |  1 |  0 | -1 | -1 | -1 | -1 |\n",
       "| 9282 | -1 | -1 | -1 |  0 | -1 | -1 | -1 | -1 |  0 | -1 | ⋯ |  0 | -1 | -1 |  0 |  0 |  0 | -1 | -1 | -1 | -1 |\n",
       "| 9607 | -1 | -1 | -1 |  0 | -1 | -1 | -1 | -1 |  0 | -1 | ⋯ |  0 | -1 | -1 |  0 |  0 | -1 | -1 | -1 | -1 | -1 |\n",
       "| 10194 |  0 |  0 | -1 |  1 |  0 |  0 |  1 |  1 |  1 |  0 | ⋯ |  1 |  0 |  1 |  1 |  1 |  0 |  0 |  1 |  0 |  0 |\n",
       "| 12356 | -1 | -1 | -1 | -1 | -1 | -1 | -1 | -1 | -1 | -1 | ⋯ | -1 | -1 | -1 | -1 | -1 | -1 | -1 | -1 | -1 | -1 |\n",
       "| 12644 | -1 |  0 | -1 |  0 |  0 |  0 |  0 |  0 |  0 | -1 | ⋯ |  1 | -1 |  0 |  1 |  0 |  0 | -1 |  0 | -1 |  0 |\n",
       "| 13342 | -1 | -1 | -1 | -1 | -1 | -1 | -1 | -1 | -1 | -1 | ⋯ | -1 | -1 | -1 | -1 | -1 | -1 | -1 | -1 | -1 | -1 |\n",
       "| 13514 | -1 | -1 | -1 |  0 | -1 | -1 |  0 | -1 |  0 | -1 | ⋯ |  0 | -1 | -1 |  0 |  1 |  0 | -1 | -1 | -1 | -1 |\n",
       "\n"
      ],
      "text/plain": [
       "      SNP1 SNP3 SNP4 SNP5 SNP6 SNP7 SNP8 SNP9 SNP10 SNP11 ⋯ SNP155 SNP156\n",
       "756   -1   -1   -1   -1   -1   -1   -1   -1   -1    -1    ⋯ -1     -1    \n",
       "1706   1    1    0    1    1    0    1    0    1     0    ⋯  0      0    \n",
       "1724  -1   -1   -1    0   -1   -1    0   -1    0    -1    ⋯  1     -1    \n",
       "2121  -1   -1   -1    0   -1   -1   -1   -1    0    -1    ⋯  0     -1    \n",
       "3838  -1    1   -1    1    0   -1    0   -1    1    -1    ⋯  0     -1    \n",
       "4662  -1    0   -1    1    0   -1    0   -1    0    -1    ⋯  0     -1    \n",
       "4912  -1    0   -1    0    0   -1    0   -1    0    -1    ⋯  1     -1    \n",
       "5154  -1   -1   -1    0   -1   -1    0   -1    0    -1    ⋯  0     -1    \n",
       "5551   0    1    0    1    1    0    1    1    1     0    ⋯  0      0    \n",
       "6043   0    0   -1    1    0    0    1    0    1    -1    ⋯  1      0    \n",
       "6597  -1    0   -1    1    0    0    0    0    1    -1    ⋯  1     -1    \n",
       "7066  -1   -1   -1    1   -1   -1    0   -1    0    -1    ⋯  0     -1    \n",
       "7587  -1    0   -1    0    0   -1    1   -1    1    -1    ⋯  1     -1    \n",
       "8066  -1   -1   -1   -1   -1   -1   -1   -1   -1    -1    ⋯ -1     -1    \n",
       "8520  -1   -1   -1    0   -1   -1   -1   -1    0    -1    ⋯  0     -1    \n",
       "9195  -1    0   -1    0    1   -1    1   -1    0    -1    ⋯  0     -1    \n",
       "9760  -1    0   -1    0    1   -1    0   -1    0    -1    ⋯  1     -1    \n",
       "12083 -1   -1   -1   -1   -1   -1   -1   -1   -1    -1    ⋯ -1     -1    \n",
       "12428 -1   -1   -1   -1   -1   -1   -1   -1   -1    -1    ⋯ -1     -1    \n",
       "13669  0    1    0    0    0    0    1    0    1     0    ⋯  1      1    \n",
       "13919 -1   -1   -1    0   -1   -1    0   -1    0    -1    ⋯  1     -1    \n",
       "14715  0    1    0    1    1    0    1    0    1     0    ⋯  1      1    \n",
       "15407 -1   -1   -1    0   -1   -1   -1   -1    0    -1    ⋯  1     -1    \n",
       "15537 -1   -1   -1    0   -1   -1    0   -1    1    -1    ⋯  1     -1    \n",
       "16180 -1   -1   -1    0   -1   -1    0   -1    0    -1    ⋯  0     -1    \n",
       "17581  0    0    0    1    0    0    1    1    1     0    ⋯  1      0    \n",
       "18184 -1   -1   -1    0   -1   -1    0   -1    1    -1    ⋯  0     -1    \n",
       "19313 -1   -1   -1    0   -1   -1    1   -1    0    -1    ⋯  0     -1    \n",
       "19747 -1   -1   -1   -1   -1   -1   -1   -1   -1    -1    ⋯ -1     -1    \n",
       "20374 -1   -1   -1   -1   -1   -1   -1   -1   -1    -1    ⋯ -1     -1    \n",
       "⋮     ⋮    ⋮    ⋮    ⋮    ⋮    ⋮    ⋮    ⋮    ⋮     ⋮     ⋱ ⋮      ⋮     \n",
       "38829 -1    0   -1    1    0    0    0    0    1    -1    ⋯  0     -1    \n",
       "38900  1    0   -1    1    1    0    1    0    0     0    ⋯  1      0    \n",
       "40765 -1    1   -1    1    0    0    1    0    1    -1    ⋯  1     -1    \n",
       "40826 -1    0   -1    0    0   -1    0   -1    1    -1    ⋯  0     -1    \n",
       "41124 -1    0   -1    1    0   -1    0   -1    0    -1    ⋯  0     -1    \n",
       "90     0    0   -1    1    1    0    0    0    1     0    ⋯  0      0    \n",
       "498   -1    0   -1    1    1    0    1    0    0    -1    ⋯  1      1    \n",
       "725    0    1    0    1    1    0    1    1    1     0    ⋯  1      0    \n",
       "820   -1    0   -1    0    0   -1    1   -1    1    -1    ⋯  0     -1    \n",
       "1929  -1   -1   -1    0   -1   -1   -1   -1    0    -1    ⋯  0     -1    \n",
       "2253  -1    0   -1    1    0   -1    1   -1    1    -1    ⋯  1     -1    \n",
       "3032  -1    1   -1    1    0   -1    0    0    0    -1    ⋯  1     -1    \n",
       "3158  -1    0   -1    1    1    0    1    0    0    -1    ⋯  0      0    \n",
       "3326  -1    0   -1    1    1   -1    0   -1    1    -1    ⋯  1     -1    \n",
       "4939  -1   -1   -1    0   -1   -1   -1   -1    0    -1    ⋯  0     -1    \n",
       "5638  -1   -1   -1   -1   -1   -1   -1   -1   -1    -1    ⋯ -1     -1    \n",
       "5674   0    0    0    1    1    0    1    0    1     0    ⋯  0      0    \n",
       "5735  -1   -1   -1    0   -1   -1   -1   -1    1    -1    ⋯  0     -1    \n",
       "6262  -1   -1   -1    0   -1   -1    0   -1    0    -1    ⋯  0     -1    \n",
       "6604  -1    0   -1    0    0    1    1    0    1    -1    ⋯  1      0    \n",
       "7025  -1    0   -1    1    0   -1    0   -1    0    -1    ⋯  1     -1    \n",
       "7454   0    0    0    1    1    0    0    0    1     0    ⋯  1      1    \n",
       "8699  -1   -1   -1    1   -1   -1    0   -1    0    -1    ⋯  0     -1    \n",
       "9282  -1   -1   -1    0   -1   -1   -1   -1    0    -1    ⋯  0     -1    \n",
       "9607  -1   -1   -1    0   -1   -1   -1   -1    0    -1    ⋯  0     -1    \n",
       "10194  0    0   -1    1    0    0    1    1    1     0    ⋯  1      0    \n",
       "12356 -1   -1   -1   -1   -1   -1   -1   -1   -1    -1    ⋯ -1     -1    \n",
       "12644 -1    0   -1    0    0    0    0    0    0    -1    ⋯  1     -1    \n",
       "13342 -1   -1   -1   -1   -1   -1   -1   -1   -1    -1    ⋯ -1     -1    \n",
       "13514 -1   -1   -1    0   -1   -1    0   -1    0    -1    ⋯  0     -1    \n",
       "      SNP157 SNP158 SNP159 SNP161 SNP163 SNP164 SNP165 SNP166\n",
       "756   -1     -1     -1     -1     -1     -1     -1     -1    \n",
       "1706   1      1      0      0      0      0      0      0    \n",
       "1724  -1      0      0      0     -1     -1     -1     -1    \n",
       "2121  -1      0      0      0     -1     -1     -1     -1    \n",
       "3838   0      0      1      1     -1     -1     -1     -1    \n",
       "4662   0      1      0      1     -1     -1     -1      0    \n",
       "4912   0      1      0      0     -1     -1     -1     -1    \n",
       "5154  -1      0      0      0     -1     -1     -1     -1    \n",
       "5551   1      1      1      1      0      0      1      0    \n",
       "6043   0      0      0      1      0      0      0      0    \n",
       "6597   0      1      1      0     -1      0     -1      0    \n",
       "7066  -1      1      0      0     -1     -1     -1     -1    \n",
       "7587   1      0      0      0     -1     -1     -1     -1    \n",
       "8066  -1     -1     -1     -1     -1     -1     -1     -1    \n",
       "8520  -1      1      0      0     -1     -1     -1     -1    \n",
       "9195   0      0      0      1     -1     -1     -1     -1    \n",
       "9760   0      1      0      0     -1     -1     -1      0    \n",
       "12083 -1      0      0     -1     -1     -1     -1     -1    \n",
       "12428 -1      0      0     -1     -1     -1     -1     -1    \n",
       "13669  0      1      1      0      1      0      1      0    \n",
       "13919 -1      0      0      1     -1     -1     -1     -1    \n",
       "14715  1      1      1      1      0      1      0      0    \n",
       "15407 -1      0      0      0     -1     -1     -1     -1    \n",
       "15537  0      0      1      1     -1     -1     -1     -1    \n",
       "16180 -1      0      0      0     -1     -1     -1     -1    \n",
       "17581  1      1      1      0      1      0      0      0    \n",
       "18184  0      0      0      1     -1     -1     -1     -1    \n",
       "19313 -1      0      0      0     -1     -1     -1     -1    \n",
       "19747 -1     -1     -1     -1     -1     -1     -1     -1    \n",
       "20374 -1      0      0     -1     -1     -1     -1     -1    \n",
       "⋮     ⋮      ⋮      ⋮      ⋮      ⋮      ⋮      ⋮      ⋮     \n",
       "38829  1      0      1      1     -1      0     -1      0    \n",
       "38900  0      1      1      1      0      1      0      0    \n",
       "40765  0      1      0      1     -1      0     -1      0    \n",
       "40826  0      1      0      0     -1     -1     -1     -1    \n",
       "41124  0      1      1      1     -1     -1     -1     -1    \n",
       "90     1      0      1      0      0      0      0      0    \n",
       "498    0      1      0      1     -1      1     -1      0    \n",
       "725    0      1      1      0      1      0      0      1    \n",
       "820    0      1      1      0     -1     -1     -1     -1    \n",
       "1929  -1      0      0      0     -1     -1     -1     -1    \n",
       "2253   0      1      1      1     -1     -1     -1     -1    \n",
       "3032   0      1      1      1     -1     -1     -1      0    \n",
       "3158   0      1      0      1     -1      0     -1      0    \n",
       "3326   0      1      1      0     -1     -1     -1     -1    \n",
       "4939  -1      0      0     -1     -1     -1     -1     -1    \n",
       "5638  -1      0      0     -1     -1     -1     -1     -1    \n",
       "5674   0      1      1      0      0      0      0      0    \n",
       "5735  -1      0      0      1     -1     -1     -1     -1    \n",
       "6262   0      1      1      0     -1     -1     -1     -1    \n",
       "6604   0      1      1      1     -1      0     -1      1    \n",
       "7025   0      1      0      1     -1     -1     -1     -1    \n",
       "7454   1      1      1      1      0      0      0      1    \n",
       "8699   0      0      1      0     -1     -1     -1     -1    \n",
       "9282  -1      0      0      0     -1     -1     -1     -1    \n",
       "9607  -1      0      0     -1     -1     -1     -1     -1    \n",
       "10194  1      1      1      0      0      1      0      0    \n",
       "12356 -1     -1     -1     -1     -1     -1     -1     -1    \n",
       "12644  0      1      0      0     -1      0     -1      0    \n",
       "13342 -1     -1     -1     -1     -1     -1     -1     -1    \n",
       "13514 -1      0      1      0     -1     -1     -1     -1    "
      ]
     },
     "metadata": {},
     "output_type": "display_data"
    }
   ],
   "source": [
    "Z2"
   ]
  },
  {
   "cell_type": "code",
   "execution_count": 29,
   "metadata": {
    "vscode": {
     "languageId": "r"
    }
   },
   "outputs": [
    {
     "ename": "ERROR",
     "evalue": "Error in eval(expr, envir, enclos): object 'sigma_a' not found\n",
     "output_type": "error",
     "traceback": [
      "Error in eval(expr, envir, enclos): object 'sigma_a' not found\nTraceback:\n"
     ]
    }
   ],
   "source": [
    "Z <- snp_data\n",
    "sigma_a_y1 = results_y1$sigma_a\n",
    "sigma_e_y1 = results_y1$sigma_e\n",
    "sigma_g_y1 = sigma_a / length(p2)\n",
    "sigma_a_y2 = results_y2$sigma_a\n",
    "sigma_e_y2 = results_y2$sigma_e\n",
    "sigma_g_y2 = sigma_a / length(p2)\n",
    "G = diag(length(p2))"
   ]
  },
  {
   "cell_type": "code",
   "execution_count": null,
   "metadata": {
    "vscode": {
     "languageId": "r"
    }
   },
   "outputs": [],
   "source": []
  }
 ],
 "metadata": {
  "kernelspec": {
   "display_name": "R",
   "language": "R",
   "name": "ir"
  },
  "language_info": {
   "codemirror_mode": "r",
   "file_extension": ".r",
   "mimetype": "text/x-r-source",
   "name": "R",
   "pygments_lexer": "r",
   "version": "3.6.3"
  },
  "orig_nbformat": 4
 },
 "nbformat": 4,
 "nbformat_minor": 2
}
